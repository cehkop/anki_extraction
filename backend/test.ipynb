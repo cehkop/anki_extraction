{
 "cells": [
  {
   "cell_type": "code",
   "execution_count": null,
   "metadata": {},
   "outputs": [],
   "source": [
    "import asyncio\n",
    "import nest_asyncio\n",
    "import aiohttp\n",
    "\n",
    "# Allow running nested event loops\n",
    "nest_asyncio.apply()\n",
    "\n",
    "async def test_api():\n",
    "    url = \"http://localhost:2341/process_text\"\n",
    "    text_input = {\n",
    "        \"text\": \"The theory of relativity, developed by Albert Einstein, revolutionized physics by introducing new concepts of space and time.\"\n",
    "    }\n",
    "\n",
    "    async with aiohttp.ClientSession() as session:\n",
    "        async with session.post(url, json=text_input) as resp:\n",
    "            if resp.status == 200:\n",
    "                data = await resp.json()\n",
    "                print(\"Response:\")\n",
    "                print(data)\n",
    "            else:\n",
    "                print(f\"Error: {resp.status}\")\n",
    "                print(await resp.text())\n",
    "\n",
    "if __name__ == \"__main__\":\n",
    "    asyncio.run(test_api())\n"
   ]
  },
  {
   "cell_type": "code",
   "execution_count": null,
   "metadata": {},
   "outputs": [],
   "source": [
    "import requests\n",
    "\n",
    "# URL of the FastAPI endpoint\n",
    "url = \"http://localhost:2341/upload_images\"\n",
    "\n",
    "# Paths to the image files to upload\n",
    "image_paths = [\n",
    "    \"1.png\",\n",
    "    \"2.png\",  # Add more images as needed\n",
    "]\n",
    "\n",
    "# Prepare the files for upload\n",
    "files = []\n",
    "for image_path in image_paths:\n",
    "    file_name = image_path.split(\"/\")[-1]\n",
    "    files.append((\"files\", (file_name, open(image_path, \"rb\"), \"image/jpeg\")))\n",
    "\n",
    "# Make the POST request to upload images\n",
    "response = requests.post(url, files=files)\n",
    "\n",
    "# Check the response status\n",
    "if response.status_code == 200:\n",
    "    print(\"Images processed successfully!\")\n",
    "    print(\"Response:\")\n",
    "    print(response.json())\n",
    "else:\n",
    "    print(f\"Failed to process images. Status code: {response.status_code}\")\n",
    "    print(\"Response:\")\n",
    "    print(response.json())\n"
   ]
  },
  {
   "cell_type": "markdown",
   "metadata": {},
   "source": [
    "# Anki"
   ]
  },
  {
   "cell_type": "code",
   "execution_count": null,
   "metadata": {},
   "outputs": [],
   "source": [
    "import requests\n",
    "\n",
    "# URL of the FastAPI endpoint\n",
    "url = \"http://localhost:2341/get_cards_red\"\n",
    "\n",
    "# Make the POST request to upload images\n",
    "response = requests.get(url, params={\"deck_name\": \"test\"})\n",
    "\n",
    "# Check the response status\n",
    "if response.status_code == 200:\n",
    "    print(\"Response:\")\n",
    "    print(response.json())\n",
    "else:\n",
    "    print(f\"Status code: {response.status_code}\")\n",
    "    print(\"Response:\")\n",
    "    print(response.json())"
   ]
  },
  {
   "cell_type": "code",
   "execution_count": null,
   "metadata": {},
   "outputs": [],
   "source": [
    "import requests\n",
    "\n",
    "# URL of the FastAPI endpoint\n",
    "url = \"http://localhost:2341/update_cards_red_manual\"\n",
    "# url = \"http://localhost:2341/update_cards_red_auto\"\n",
    "\n",
    "# Make the POST request to upload images\n",
    "response = requests.post(url, params={\"deck_name\": \"test\"})\n",
    "# response = requests.get(url, params={\"deck_name\": \"test\"})\n",
    "\n",
    "# Check the response status\n",
    "if response.status_code == 200:\n",
    "    print(\"Response:\")\n",
    "    print(response.json())\n",
    "else:\n",
    "    print(f\"Status code: {response.status_code}\")\n",
    "    print(\"Response:\")\n",
    "    print(response.json())"
   ]
  }
 ],
 "metadata": {
  "kernelspec": {
   "display_name": "Python 3",
   "language": "python",
   "name": "python3"
  },
  "language_info": {
   "codemirror_mode": {
    "name": "ipython",
    "version": 3
   },
   "file_extension": ".py",
   "mimetype": "text/x-python",
   "name": "python",
   "nbconvert_exporter": "python",
   "pygments_lexer": "ipython3",
   "version": "3.12.2"
  }
 },
 "nbformat": 4,
 "nbformat_minor": 2
}
