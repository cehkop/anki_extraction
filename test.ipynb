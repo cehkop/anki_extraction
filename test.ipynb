{
 "cells": [
  {
   "cell_type": "code",
   "execution_count": null,
   "metadata": {},
   "outputs": [],
   "source": [
    "import asyncio\n",
    "import nest_asyncio\n",
    "import aiohttp\n",
    "\n",
    "# Allow running nested event loops\n",
    "nest_asyncio.apply()\n",
    "\n",
    "async def test_api():\n",
    "    url = \"http://localhost:2341/process_text\"\n",
    "    text_input = {\n",
    "        \"text\": \"The theory of relativity, developed by Albert Einstein, revolutionized physics by introducing new concepts of space and time.\"\n",
    "    }\n",
    "\n",
    "    async with aiohttp.ClientSession() as session:\n",
    "        async with session.post(url, json=text_input) as resp:\n",
    "            if resp.status == 200:\n",
    "                data = await resp.json()\n",
    "                print(\"Response:\")\n",
    "                print(data)\n",
    "            else:\n",
    "                print(f\"Error: {resp.status}\")\n",
    "                print(await resp.text())\n",
    "\n",
    "if __name__ == \"__main__\":\n",
    "    asyncio.run(test_api())\n"
   ]
  }
 ],
 "metadata": {
  "kernelspec": {
   "display_name": ".venv",
   "language": "python",
   "name": "python3"
  },
  "language_info": {
   "codemirror_mode": {
    "name": "ipython",
    "version": 3
   },
   "file_extension": ".py",
   "mimetype": "text/x-python",
   "name": "python",
   "nbconvert_exporter": "python",
   "pygments_lexer": "ipython3",
   "version": "3.12.2"
  }
 },
 "nbformat": 4,
 "nbformat_minor": 2
}
